{
 "cells": [
  {
   "cell_type": "markdown",
   "metadata": {},
   "source": [
    "# M3 - WEEK 5 | PROJECT: Make your data shine!"
   ]
  },
  {
   "cell_type": "markdown",
   "metadata": {},
   "source": [
    "Working on The Metropolitan Museum of Art Open Access."
   ]
  },
  {
   "cell_type": "markdown",
   "metadata": {},
   "source": [
    "# Step One : Warming up"
   ]
  },
  {
   "cell_type": "markdown",
   "metadata": {},
   "source": [
    "#### we should dexcribe about our analysis and scope of this. \n",
    "\n",
    "We want to clean data for analysing for questions as follow:\n",
    "\n",
    "1) Which top 10 Department have the highest number amoung all Artists in the Metropolitan Museum of Art ?\n",
    "\n",
    "2) Which top 10 Nationality have the highest number amoung all Artists in the Metropolitan Museum of Art ?\n",
    "\n",
    "3) The number of gift which are given to the museum based on year?\n",
    "\n",
    "4) Which top 10 Medium have the highest number amoung all Artists in the Metropolitan Museum of Art ?\n",
    "\n",
    "5) Which top 10 Classification have the highest number amoung all Artists in the Metropolitan Museum of Art ?\n"
   ]
  },
  {
   "cell_type": "markdown",
   "metadata": {},
   "source": [
    "Retrieving file"
   ]
  },
  {
   "cell_type": "code",
   "execution_count": 1,
   "metadata": {},
   "outputs": [],
   "source": [
    "# import packages\n",
    "import numpy as np\n",
    "import seaborn as sns\n",
    "import matplotlib.pyplot as plt\n",
    "import pandas as pd\n",
    "from urllib.request import urlretrieve\n",
    "import time"
   ]
  },
  {
   "cell_type": "code",
   "execution_count": 2,
   "metadata": {},
   "outputs": [],
   "source": [
    "# Cheching running time\n",
    "start_time = time.time()"
   ]
  },
  {
   "cell_type": "code",
   "execution_count": 3,
   "metadata": {},
   "outputs": [
    {
     "name": "stdout",
     "output_type": "stream",
     "text": [
      "--- 29.36082911491394 seconds ---\n"
     ]
    }
   ],
   "source": [
    "#uploading dataset from the link which is given by ELU\n",
    "#url = 'https://media.githubusercontent.com/media/metmuseum/openaccess/master/MetObjects.csv'\n",
    "\n",
    "# Save file\n",
    "#urlretrieve(url, 'MetObjects.csv')\n",
    "\n",
    "# Read file into a DataFrame \n",
    "df_chunk = pd.read_csv('MetObjects.csv', sep=',', chunksize= 10000 )\n",
    "dfz = pd.concat(df_chunk)\n",
    "print(\"--- %s seconds ---\" % (time.time() - start_time))"
   ]
  },
  {
   "cell_type": "code",
   "execution_count": 4,
   "metadata": {},
   "outputs": [
    {
     "data": {
      "text/html": [
       "<div>\n",
       "<style scoped>\n",
       "    .dataframe tbody tr th:only-of-type {\n",
       "        vertical-align: middle;\n",
       "    }\n",
       "\n",
       "    .dataframe tbody tr th {\n",
       "        vertical-align: top;\n",
       "    }\n",
       "\n",
       "    .dataframe thead th {\n",
       "        text-align: right;\n",
       "    }\n",
       "</style>\n",
       "<table border=\"1\" class=\"dataframe\">\n",
       "  <thead>\n",
       "    <tr style=\"text-align: right;\">\n",
       "      <th></th>\n",
       "      <th>Object Number</th>\n",
       "      <th>Is Highlight</th>\n",
       "      <th>Is Public Domain</th>\n",
       "      <th>Object ID</th>\n",
       "      <th>Department</th>\n",
       "      <th>Object Name</th>\n",
       "      <th>Title</th>\n",
       "      <th>Culture</th>\n",
       "      <th>Period</th>\n",
       "      <th>Dynasty</th>\n",
       "      <th>...</th>\n",
       "      <th>Locale</th>\n",
       "      <th>Locus</th>\n",
       "      <th>Excavation</th>\n",
       "      <th>River</th>\n",
       "      <th>Classification</th>\n",
       "      <th>Rights and Reproduction</th>\n",
       "      <th>Link Resource</th>\n",
       "      <th>Metadata Date</th>\n",
       "      <th>Repository</th>\n",
       "      <th>Tags</th>\n",
       "    </tr>\n",
       "  </thead>\n",
       "  <tbody>\n",
       "    <tr>\n",
       "      <th>0</th>\n",
       "      <td>1979.486.1</td>\n",
       "      <td>False</td>\n",
       "      <td>False</td>\n",
       "      <td>1</td>\n",
       "      <td>American Decorative Arts</td>\n",
       "      <td>Coin</td>\n",
       "      <td>One-dollar Liberty Head Coin</td>\n",
       "      <td>NaN</td>\n",
       "      <td>NaN</td>\n",
       "      <td>NaN</td>\n",
       "      <td>...</td>\n",
       "      <td>NaN</td>\n",
       "      <td>NaN</td>\n",
       "      <td>NaN</td>\n",
       "      <td>NaN</td>\n",
       "      <td>Metal</td>\n",
       "      <td>NaN</td>\n",
       "      <td>http://www.metmuseum.org/art/collection/search/1</td>\n",
       "      <td>5/27/2019 8:00:01 AM</td>\n",
       "      <td>Metropolitan Museum of Art, New York, NY</td>\n",
       "      <td>NaN</td>\n",
       "    </tr>\n",
       "    <tr>\n",
       "      <th>1</th>\n",
       "      <td>1980.264.5</td>\n",
       "      <td>False</td>\n",
       "      <td>False</td>\n",
       "      <td>2</td>\n",
       "      <td>American Decorative Arts</td>\n",
       "      <td>Coin</td>\n",
       "      <td>Ten-dollar Liberty Head Coin</td>\n",
       "      <td>NaN</td>\n",
       "      <td>NaN</td>\n",
       "      <td>NaN</td>\n",
       "      <td>...</td>\n",
       "      <td>NaN</td>\n",
       "      <td>NaN</td>\n",
       "      <td>NaN</td>\n",
       "      <td>NaN</td>\n",
       "      <td>Metal</td>\n",
       "      <td>NaN</td>\n",
       "      <td>http://www.metmuseum.org/art/collection/search/2</td>\n",
       "      <td>5/27/2019 8:00:01 AM</td>\n",
       "      <td>Metropolitan Museum of Art, New York, NY</td>\n",
       "      <td>NaN</td>\n",
       "    </tr>\n",
       "    <tr>\n",
       "      <th>2</th>\n",
       "      <td>67.265.9</td>\n",
       "      <td>False</td>\n",
       "      <td>False</td>\n",
       "      <td>3</td>\n",
       "      <td>American Decorative Arts</td>\n",
       "      <td>Coin</td>\n",
       "      <td>Two-and-a-Half Dollar Coin</td>\n",
       "      <td>NaN</td>\n",
       "      <td>NaN</td>\n",
       "      <td>NaN</td>\n",
       "      <td>...</td>\n",
       "      <td>NaN</td>\n",
       "      <td>NaN</td>\n",
       "      <td>NaN</td>\n",
       "      <td>NaN</td>\n",
       "      <td>Metal</td>\n",
       "      <td>NaN</td>\n",
       "      <td>http://www.metmuseum.org/art/collection/search/3</td>\n",
       "      <td>5/27/2019 8:00:01 AM</td>\n",
       "      <td>Metropolitan Museum of Art, New York, NY</td>\n",
       "      <td>NaN</td>\n",
       "    </tr>\n",
       "    <tr>\n",
       "      <th>3</th>\n",
       "      <td>67.265.10</td>\n",
       "      <td>False</td>\n",
       "      <td>False</td>\n",
       "      <td>4</td>\n",
       "      <td>American Decorative Arts</td>\n",
       "      <td>Coin</td>\n",
       "      <td>Two-and-a-Half Dollar Coin</td>\n",
       "      <td>NaN</td>\n",
       "      <td>NaN</td>\n",
       "      <td>NaN</td>\n",
       "      <td>...</td>\n",
       "      <td>NaN</td>\n",
       "      <td>NaN</td>\n",
       "      <td>NaN</td>\n",
       "      <td>NaN</td>\n",
       "      <td>Metal</td>\n",
       "      <td>NaN</td>\n",
       "      <td>http://www.metmuseum.org/art/collection/search/4</td>\n",
       "      <td>5/27/2019 8:00:01 AM</td>\n",
       "      <td>Metropolitan Museum of Art, New York, NY</td>\n",
       "      <td>NaN</td>\n",
       "    </tr>\n",
       "    <tr>\n",
       "      <th>4</th>\n",
       "      <td>67.265.11</td>\n",
       "      <td>False</td>\n",
       "      <td>False</td>\n",
       "      <td>5</td>\n",
       "      <td>American Decorative Arts</td>\n",
       "      <td>Coin</td>\n",
       "      <td>Two-and-a-Half Dollar Coin</td>\n",
       "      <td>NaN</td>\n",
       "      <td>NaN</td>\n",
       "      <td>NaN</td>\n",
       "      <td>...</td>\n",
       "      <td>NaN</td>\n",
       "      <td>NaN</td>\n",
       "      <td>NaN</td>\n",
       "      <td>NaN</td>\n",
       "      <td>Metal</td>\n",
       "      <td>NaN</td>\n",
       "      <td>http://www.metmuseum.org/art/collection/search/5</td>\n",
       "      <td>5/27/2019 8:00:01 AM</td>\n",
       "      <td>Metropolitan Museum of Art, New York, NY</td>\n",
       "      <td>NaN</td>\n",
       "    </tr>\n",
       "  </tbody>\n",
       "</table>\n",
       "<p>5 rows × 44 columns</p>\n",
       "</div>"
      ],
      "text/plain": [
       "  Object Number  Is Highlight  Is Public Domain  Object ID  \\\n",
       "0    1979.486.1         False             False          1   \n",
       "1    1980.264.5         False             False          2   \n",
       "2      67.265.9         False             False          3   \n",
       "3     67.265.10         False             False          4   \n",
       "4     67.265.11         False             False          5   \n",
       "\n",
       "                 Department Object Name                         Title Culture  \\\n",
       "0  American Decorative Arts        Coin  One-dollar Liberty Head Coin     NaN   \n",
       "1  American Decorative Arts        Coin  Ten-dollar Liberty Head Coin     NaN   \n",
       "2  American Decorative Arts        Coin    Two-and-a-Half Dollar Coin     NaN   \n",
       "3  American Decorative Arts        Coin    Two-and-a-Half Dollar Coin     NaN   \n",
       "4  American Decorative Arts        Coin    Two-and-a-Half Dollar Coin     NaN   \n",
       "\n",
       "  Period Dynasty ...  Locale Locus Excavation River Classification  \\\n",
       "0    NaN     NaN ...     NaN   NaN        NaN   NaN          Metal   \n",
       "1    NaN     NaN ...     NaN   NaN        NaN   NaN          Metal   \n",
       "2    NaN     NaN ...     NaN   NaN        NaN   NaN          Metal   \n",
       "3    NaN     NaN ...     NaN   NaN        NaN   NaN          Metal   \n",
       "4    NaN     NaN ...     NaN   NaN        NaN   NaN          Metal   \n",
       "\n",
       "  Rights and Reproduction                                     Link Resource  \\\n",
       "0                     NaN  http://www.metmuseum.org/art/collection/search/1   \n",
       "1                     NaN  http://www.metmuseum.org/art/collection/search/2   \n",
       "2                     NaN  http://www.metmuseum.org/art/collection/search/3   \n",
       "3                     NaN  http://www.metmuseum.org/art/collection/search/4   \n",
       "4                     NaN  http://www.metmuseum.org/art/collection/search/5   \n",
       "\n",
       "          Metadata Date                                Repository Tags  \n",
       "0  5/27/2019 8:00:01 AM  Metropolitan Museum of Art, New York, NY  NaN  \n",
       "1  5/27/2019 8:00:01 AM  Metropolitan Museum of Art, New York, NY  NaN  \n",
       "2  5/27/2019 8:00:01 AM  Metropolitan Museum of Art, New York, NY  NaN  \n",
       "3  5/27/2019 8:00:01 AM  Metropolitan Museum of Art, New York, NY  NaN  \n",
       "4  5/27/2019 8:00:01 AM  Metropolitan Museum of Art, New York, NY  NaN  \n",
       "\n",
       "[5 rows x 44 columns]"
      ]
     },
     "execution_count": 4,
     "metadata": {},
     "output_type": "execute_result"
    }
   ],
   "source": [
    "# Print the dataset head\n",
    "dfz.head()"
   ]
  },
  {
   "cell_type": "code",
   "execution_count": 5,
   "metadata": {},
   "outputs": [
    {
     "data": {
      "text/plain": [
       "(495103, 44)"
      ]
     },
     "execution_count": 5,
     "metadata": {},
     "output_type": "execute_result"
    }
   ],
   "source": [
    "#Checking the shape of dataset\n",
    "dfz.shape"
   ]
  },
  {
   "cell_type": "code",
   "execution_count": 6,
   "metadata": {},
   "outputs": [
    {
     "name": "stdout",
     "output_type": "stream",
     "text": [
      "<class 'pandas.core.frame.DataFrame'>\n",
      "RangeIndex: 495103 entries, 0 to 495102\n",
      "Data columns (total 44 columns):\n",
      "Object Number              495103 non-null object\n",
      "Is Highlight               495103 non-null bool\n",
      "Is Public Domain           495103 non-null bool\n",
      "Object ID                  495103 non-null int64\n",
      "Department                 495103 non-null object\n",
      "Object Name                490694 non-null object\n",
      "Title                      463839 non-null object\n",
      "Culture                    209073 non-null object\n",
      "Period                     89558 non-null object\n",
      "Dynasty                    23281 non-null object\n",
      "Reign                      11206 non-null object\n",
      "Portfolio                  22306 non-null object\n",
      "Artist Role                285873 non-null object\n",
      "Artist Prefix              98608 non-null object\n",
      "Artist Display Name        287970 non-null object\n",
      "Artist Display Bio         238338 non-null object\n",
      "Artist Suffix              12261 non-null object\n",
      "Artist Alpha Sort          287935 non-null object\n",
      "Artist Nationality         193411 non-null object\n",
      "Artist Begin Date          241053 non-null object\n",
      "Artist End Date            238224 non-null object\n",
      "Object Date                480067 non-null object\n",
      "Object Begin Date          495103 non-null int64\n",
      "Object End Date            495103 non-null int64\n",
      "Medium                     487506 non-null object\n",
      "Dimensions                 418798 non-null object\n",
      "Credit Line                494313 non-null object\n",
      "Geography Type             60363 non-null object\n",
      "City                       32250 non-null object\n",
      "State                      2804 non-null object\n",
      "County                     8580 non-null object\n",
      "Country                    76814 non-null object\n",
      "Region                     31968 non-null object\n",
      "Subregion                  22278 non-null object\n",
      "Locale                     15562 non-null object\n",
      "Locus                      7339 non-null object\n",
      "Excavation                 15978 non-null object\n",
      "River                      2098 non-null object\n",
      "Classification             438680 non-null object\n",
      "Rights and Reproduction    25000 non-null object\n",
      "Link Resource              495103 non-null object\n",
      "Metadata Date              495103 non-null object\n",
      "Repository                 495103 non-null object\n",
      "Tags                       265188 non-null object\n",
      "dtypes: bool(2), int64(3), object(39)\n",
      "memory usage: 159.6+ MB\n"
     ]
    }
   ],
   "source": [
    "#Check the information of our dtaset\n",
    "dfz.info()"
   ]
  },
  {
   "cell_type": "code",
   "execution_count": 7,
   "metadata": {},
   "outputs": [
    {
     "data": {
      "text/html": [
       "<div>\n",
       "<style scoped>\n",
       "    .dataframe tbody tr th:only-of-type {\n",
       "        vertical-align: middle;\n",
       "    }\n",
       "\n",
       "    .dataframe tbody tr th {\n",
       "        vertical-align: top;\n",
       "    }\n",
       "\n",
       "    .dataframe thead th {\n",
       "        text-align: right;\n",
       "    }\n",
       "</style>\n",
       "<table border=\"1\" class=\"dataframe\">\n",
       "  <thead>\n",
       "    <tr style=\"text-align: right;\">\n",
       "      <th></th>\n",
       "      <th>Object ID</th>\n",
       "      <th>Object Begin Date</th>\n",
       "      <th>Object End Date</th>\n",
       "    </tr>\n",
       "  </thead>\n",
       "  <tbody>\n",
       "    <tr>\n",
       "      <th>count</th>\n",
       "      <td>495103.000000</td>\n",
       "      <td>495103.000000</td>\n",
       "      <td>495103.000000</td>\n",
       "    </tr>\n",
       "    <tr>\n",
       "      <th>mean</th>\n",
       "      <td>387463.309287</td>\n",
       "      <td>1313.109971</td>\n",
       "      <td>1410.841556</td>\n",
       "    </tr>\n",
       "    <tr>\n",
       "      <th>std</th>\n",
       "      <td>232128.271870</td>\n",
       "      <td>1651.196129</td>\n",
       "      <td>1105.834773</td>\n",
       "    </tr>\n",
       "    <tr>\n",
       "      <th>min</th>\n",
       "      <td>1.000000</td>\n",
       "      <td>-400000.000000</td>\n",
       "      <td>-240000.000000</td>\n",
       "    </tr>\n",
       "    <tr>\n",
       "      <th>25%</th>\n",
       "      <td>213611.500000</td>\n",
       "      <td>1540.000000</td>\n",
       "      <td>1598.000000</td>\n",
       "    </tr>\n",
       "    <tr>\n",
       "      <th>50%</th>\n",
       "      <td>375709.000000</td>\n",
       "      <td>1800.000000</td>\n",
       "      <td>1847.000000</td>\n",
       "    </tr>\n",
       "    <tr>\n",
       "      <th>75%</th>\n",
       "      <td>565729.500000</td>\n",
       "      <td>1900.000000</td>\n",
       "      <td>1911.000000</td>\n",
       "    </tr>\n",
       "    <tr>\n",
       "      <th>max</th>\n",
       "      <td>827099.000000</td>\n",
       "      <td>5000.000000</td>\n",
       "      <td>15335.000000</td>\n",
       "    </tr>\n",
       "  </tbody>\n",
       "</table>\n",
       "</div>"
      ],
      "text/plain": [
       "           Object ID  Object Begin Date  Object End Date\n",
       "count  495103.000000      495103.000000    495103.000000\n",
       "mean   387463.309287        1313.109971      1410.841556\n",
       "std    232128.271870        1651.196129      1105.834773\n",
       "min         1.000000     -400000.000000   -240000.000000\n",
       "25%    213611.500000        1540.000000      1598.000000\n",
       "50%    375709.000000        1800.000000      1847.000000\n",
       "75%    565729.500000        1900.000000      1911.000000\n",
       "max    827099.000000        5000.000000     15335.000000"
      ]
     },
     "execution_count": 7,
     "metadata": {},
     "output_type": "execute_result"
    }
   ],
   "source": [
    "#Checking the feature of 'integer ' columns\n",
    "dfz.describe()"
   ]
  },
  {
   "cell_type": "code",
   "execution_count": 8,
   "metadata": {},
   "outputs": [
    {
     "data": {
      "text/html": [
       "<div>\n",
       "<style scoped>\n",
       "    .dataframe tbody tr th:only-of-type {\n",
       "        vertical-align: middle;\n",
       "    }\n",
       "\n",
       "    .dataframe tbody tr th {\n",
       "        vertical-align: top;\n",
       "    }\n",
       "\n",
       "    .dataframe thead th {\n",
       "        text-align: right;\n",
       "    }\n",
       "</style>\n",
       "<table border=\"1\" class=\"dataframe\">\n",
       "  <thead>\n",
       "    <tr style=\"text-align: right;\">\n",
       "      <th></th>\n",
       "      <th>Object Number</th>\n",
       "      <th>Department</th>\n",
       "      <th>Object Name</th>\n",
       "      <th>Title</th>\n",
       "      <th>Culture</th>\n",
       "      <th>Period</th>\n",
       "      <th>Dynasty</th>\n",
       "      <th>Reign</th>\n",
       "      <th>Portfolio</th>\n",
       "      <th>Artist Role</th>\n",
       "      <th>...</th>\n",
       "      <th>Locale</th>\n",
       "      <th>Locus</th>\n",
       "      <th>Excavation</th>\n",
       "      <th>River</th>\n",
       "      <th>Classification</th>\n",
       "      <th>Rights and Reproduction</th>\n",
       "      <th>Link Resource</th>\n",
       "      <th>Metadata Date</th>\n",
       "      <th>Repository</th>\n",
       "      <th>Tags</th>\n",
       "    </tr>\n",
       "  </thead>\n",
       "  <tbody>\n",
       "    <tr>\n",
       "      <th>count</th>\n",
       "      <td>495103</td>\n",
       "      <td>495103</td>\n",
       "      <td>490694</td>\n",
       "      <td>463839</td>\n",
       "      <td>209073</td>\n",
       "      <td>89558</td>\n",
       "      <td>23281</td>\n",
       "      <td>11206</td>\n",
       "      <td>22306</td>\n",
       "      <td>285873</td>\n",
       "      <td>...</td>\n",
       "      <td>15562</td>\n",
       "      <td>7339</td>\n",
       "      <td>15978</td>\n",
       "      <td>2098</td>\n",
       "      <td>438680</td>\n",
       "      <td>25000</td>\n",
       "      <td>495103</td>\n",
       "      <td>495103</td>\n",
       "      <td>495103</td>\n",
       "      <td>265188</td>\n",
       "    </tr>\n",
       "    <tr>\n",
       "      <th>unique</th>\n",
       "      <td>492398</td>\n",
       "      <td>19</td>\n",
       "      <td>28372</td>\n",
       "      <td>252194</td>\n",
       "      <td>7278</td>\n",
       "      <td>1809</td>\n",
       "      <td>381</td>\n",
       "      <td>381</td>\n",
       "      <td>3282</td>\n",
       "      <td>6365</td>\n",
       "      <td>...</td>\n",
       "      <td>860</td>\n",
       "      <td>1361</td>\n",
       "      <td>373</td>\n",
       "      <td>230</td>\n",
       "      <td>1235</td>\n",
       "      <td>1441</td>\n",
       "      <td>495103</td>\n",
       "      <td>1</td>\n",
       "      <td>1</td>\n",
       "      <td>51880</td>\n",
       "    </tr>\n",
       "    <tr>\n",
       "      <th>top</th>\n",
       "      <td>62.635</td>\n",
       "      <td>Drawings and Prints</td>\n",
       "      <td>Print</td>\n",
       "      <td>Fragment</td>\n",
       "      <td>American</td>\n",
       "      <td>Edo period (1615–1868)</td>\n",
       "      <td>Dynasty 18</td>\n",
       "      <td>reign of Amenhotep III</td>\n",
       "      <td>Les Images De Tous Les Saincts et Saintes de L...</td>\n",
       "      <td>Artist</td>\n",
       "      <td>...</td>\n",
       "      <td>Cemetery</td>\n",
       "      <td>debris</td>\n",
       "      <td>MMA excavations</td>\n",
       "      <td>Upper Sepik River</td>\n",
       "      <td>Prints</td>\n",
       "      <td>© Walker Evans Archive, The Metropolitan Museu...</td>\n",
       "      <td>http://www.metmuseum.org/art/collection/search...</td>\n",
       "      <td>5/27/2019 8:00:01 AM</td>\n",
       "      <td>Metropolitan Museum of Art, New York, NY</td>\n",
       "      <td>Men|Portraits|Baseball|Athletes</td>\n",
       "    </tr>\n",
       "    <tr>\n",
       "      <th>freq</th>\n",
       "      <td>4</td>\n",
       "      <td>178975</td>\n",
       "      <td>102530</td>\n",
       "      <td>7011</td>\n",
       "      <td>28407</td>\n",
       "      <td>8882</td>\n",
       "      <td>7156</td>\n",
       "      <td>2730</td>\n",
       "      <td>601</td>\n",
       "      <td>115071</td>\n",
       "      <td>...</td>\n",
       "      <td>1925</td>\n",
       "      <td>416</td>\n",
       "      <td>2387</td>\n",
       "      <td>361</td>\n",
       "      <td>77063</td>\n",
       "      <td>9204</td>\n",
       "      <td>1</td>\n",
       "      <td>495103</td>\n",
       "      <td>495103</td>\n",
       "      <td>9704</td>\n",
       "    </tr>\n",
       "  </tbody>\n",
       "</table>\n",
       "<p>4 rows × 39 columns</p>\n",
       "</div>"
      ],
      "text/plain": [
       "       Object Number           Department Object Name     Title   Culture  \\\n",
       "count         495103               495103      490694    463839    209073   \n",
       "unique        492398                   19       28372    252194      7278   \n",
       "top           62.635  Drawings and Prints       Print  Fragment  American   \n",
       "freq               4               178975      102530      7011     28407   \n",
       "\n",
       "                        Period     Dynasty                   Reign  \\\n",
       "count                    89558       23281                   11206   \n",
       "unique                    1809         381                     381   \n",
       "top     Edo period (1615–1868)  Dynasty 18  reign of Amenhotep III   \n",
       "freq                      8882        7156                    2730   \n",
       "\n",
       "                                                Portfolio Artist Role  \\\n",
       "count                                               22306      285873   \n",
       "unique                                               3282        6365   \n",
       "top     Les Images De Tous Les Saincts et Saintes de L...      Artist   \n",
       "freq                                                  601      115071   \n",
       "\n",
       "                     ...                   Locale   Locus       Excavation  \\\n",
       "count                ...                    15562    7339            15978   \n",
       "unique               ...                      860    1361              373   \n",
       "top                  ...                 Cemetery  debris  MMA excavations   \n",
       "freq                 ...                     1925     416             2387   \n",
       "\n",
       "                    River Classification  \\\n",
       "count                2098         438680   \n",
       "unique                230           1235   \n",
       "top     Upper Sepik River         Prints   \n",
       "freq                  361          77063   \n",
       "\n",
       "                                  Rights and Reproduction  \\\n",
       "count                                               25000   \n",
       "unique                                               1441   \n",
       "top     © Walker Evans Archive, The Metropolitan Museu...   \n",
       "freq                                                 9204   \n",
       "\n",
       "                                            Link Resource  \\\n",
       "count                                              495103   \n",
       "unique                                             495103   \n",
       "top     http://www.metmuseum.org/art/collection/search...   \n",
       "freq                                                    1   \n",
       "\n",
       "               Metadata Date                                Repository  \\\n",
       "count                 495103                                    495103   \n",
       "unique                     1                                         1   \n",
       "top     5/27/2019 8:00:01 AM  Metropolitan Museum of Art, New York, NY   \n",
       "freq                  495103                                    495103   \n",
       "\n",
       "                                   Tags  \n",
       "count                            265188  \n",
       "unique                            51880  \n",
       "top     Men|Portraits|Baseball|Athletes  \n",
       "freq                               9704  \n",
       "\n",
       "[4 rows x 39 columns]"
      ]
     },
     "execution_count": 8,
     "metadata": {},
     "output_type": "execute_result"
    }
   ],
   "source": [
    "#Checking the feature of 'object ' columns\n",
    "dfz.describe(include='object')"
   ]
  },
  {
   "cell_type": "code",
   "execution_count": 9,
   "metadata": {},
   "outputs": [
    {
     "data": {
      "text/plain": [
       "Object Number              object\n",
       "Is Highlight                 bool\n",
       "Is Public Domain             bool\n",
       "Object ID                   int64\n",
       "Department                 object\n",
       "Object Name                object\n",
       "Title                      object\n",
       "Culture                    object\n",
       "Period                     object\n",
       "Dynasty                    object\n",
       "Reign                      object\n",
       "Portfolio                  object\n",
       "Artist Role                object\n",
       "Artist Prefix              object\n",
       "Artist Display Name        object\n",
       "Artist Display Bio         object\n",
       "Artist Suffix              object\n",
       "Artist Alpha Sort          object\n",
       "Artist Nationality         object\n",
       "Artist Begin Date          object\n",
       "Artist End Date            object\n",
       "Object Date                object\n",
       "Object Begin Date           int64\n",
       "Object End Date             int64\n",
       "Medium                     object\n",
       "Dimensions                 object\n",
       "Credit Line                object\n",
       "Geography Type             object\n",
       "City                       object\n",
       "State                      object\n",
       "County                     object\n",
       "Country                    object\n",
       "Region                     object\n",
       "Subregion                  object\n",
       "Locale                     object\n",
       "Locus                      object\n",
       "Excavation                 object\n",
       "River                      object\n",
       "Classification             object\n",
       "Rights and Reproduction    object\n",
       "Link Resource              object\n",
       "Metadata Date              object\n",
       "Repository                 object\n",
       "Tags                       object\n",
       "dtype: object"
      ]
     },
     "execution_count": 9,
     "metadata": {},
     "output_type": "execute_result"
    }
   ],
   "source": [
    "#Checking type of data\n",
    "dfz.dtypes"
   ]
  },
  {
   "cell_type": "code",
   "execution_count": 10,
   "metadata": {},
   "outputs": [
    {
     "data": {
      "text/plain": [
       "Object Number               0.000000\n",
       "Is Highlight                0.000000\n",
       "Is Public Domain            0.000000\n",
       "Object ID                   0.000000\n",
       "Department                  0.000000\n",
       "Metadata Date               0.000000\n",
       "Link Resource               0.000000\n",
       "Object End Date             0.000000\n",
       "Object Begin Date           0.000000\n",
       "Repository                  0.000000\n",
       "Credit Line                 0.159563\n",
       "Object Name                 0.890522\n",
       "Medium                      1.534428\n",
       "Object Date                 3.036944\n",
       "Title                       6.314646\n",
       "Classification             11.396215\n",
       "Dimensions                 15.411945\n",
       "Artist Display Name        41.836345\n",
       "Artist Alpha Sort          41.843414\n",
       "Artist Role                42.259893\n",
       "Tags                       46.437812\n",
       "Artist Begin Date          51.312555\n",
       "Artist Display Bio         51.860926\n",
       "Artist End Date            51.883951\n",
       "Culture                    57.771817\n",
       "Artist Nationality         60.935199\n",
       "Artist Prefix              80.083336\n",
       "Period                     81.911239\n",
       "Country                    84.485249\n",
       "Geography Type             87.807991\n",
       "City                       93.486204\n",
       "Region                     93.543162\n",
       "Rights and Reproduction    94.950546\n",
       "Dynasty                    95.297746\n",
       "Portfolio                  95.494675\n",
       "Subregion                  95.500330\n",
       "Excavation                 96.772793\n",
       "Locale                     96.856816\n",
       "Artist Suffix              97.523546\n",
       "Reign                      97.736633\n",
       "County                     98.267027\n",
       "Locus                      98.517682\n",
       "State                      99.433653\n",
       "River                      99.576250\n",
       "dtype: float64"
      ]
     },
     "execution_count": 10,
     "metadata": {},
     "output_type": "execute_result"
    }
   ],
   "source": [
    "#cheking missing value\n",
    "\n",
    "missing_values_count = dfz.isnull().sum()* 100 / len(dfz)\n",
    "\n",
    "# look at the missing points in the first ten columns\n",
    "missing_values_count[:].sort_values()\n"
   ]
  },
  {
   "cell_type": "code",
   "execution_count": 11,
   "metadata": {},
   "outputs": [
    {
     "data": {
      "text/plain": [
       "0.009970978727101289"
      ]
     },
     "execution_count": 11,
     "metadata": {},
     "output_type": "execute_result"
    }
   ],
   "source": [
    "#just double check the percentage of missing value in the whole dataset\n",
    "total_cells = np.product(dfz.shape)\n",
    "total_missing = missing_values_count.sum()\n",
    "\n",
    "# percent of data that is missing\n",
    "(total_missing/total_cells) * 100"
   ]
  },
  {
   "cell_type": "code",
   "execution_count": 12,
   "metadata": {},
   "outputs": [],
   "source": [
    "#Dropping missing value upper than 80%\n",
    "df2=dfz.drop(['River','State','Locus','County','Reign','Artist Suffix','Locale','Excavation','Subregion','Portfolio','Dynasty',\n",
    "              'Rights and Reproduction','Region','City','Geography Type','Country','Period'],axis=1)"
   ]
  },
  {
   "cell_type": "code",
   "execution_count": 13,
   "metadata": {},
   "outputs": [
    {
     "name": "stdout",
     "output_type": "stream",
     "text": [
      "Empty DataFrame\n",
      "Columns: [Object Number, Is Highlight, Is Public Domain, Object ID, Department, Object Name, Title, Culture, Period, Dynasty, Reign, Portfolio, Artist Role, Artist Prefix, Artist Display Name, Artist Display Bio, Artist Suffix, Artist Alpha Sort, Artist Nationality, Artist Begin Date, Artist End Date, Object Date, Object Begin Date, Object End Date, Medium, Dimensions, Credit Line, Geography Type, City, State, County, Country, Region, Subregion, Locale, Locus, Excavation, River, Classification, Rights and Reproduction, Link Resource, Metadata Date, Repository, Tags]\n",
      "Index: []\n",
      "\n",
      "[0 rows x 44 columns]\n"
     ]
    }
   ],
   "source": [
    "#Drop any repetation by rows\n",
    "duplicateRowsDF = dfz[dfz.duplicated()]\n",
    "print(duplicateRowsDF)"
   ]
  },
  {
   "cell_type": "code",
   "execution_count": 14,
   "metadata": {},
   "outputs": [
    {
     "data": {
      "text/html": [
       "<div>\n",
       "<style scoped>\n",
       "    .dataframe tbody tr th:only-of-type {\n",
       "        vertical-align: middle;\n",
       "    }\n",
       "\n",
       "    .dataframe tbody tr th {\n",
       "        vertical-align: top;\n",
       "    }\n",
       "\n",
       "    .dataframe thead th {\n",
       "        text-align: right;\n",
       "    }\n",
       "</style>\n",
       "<table border=\"1\" class=\"dataframe\">\n",
       "  <thead>\n",
       "    <tr style=\"text-align: right;\">\n",
       "      <th></th>\n",
       "      <th>Object Number</th>\n",
       "      <th>Is Highlight</th>\n",
       "      <th>Is Public Domain</th>\n",
       "      <th>Object ID</th>\n",
       "      <th>Department</th>\n",
       "      <th>Object Name</th>\n",
       "      <th>Title</th>\n",
       "      <th>Culture</th>\n",
       "      <th>Artist Role</th>\n",
       "      <th>Artist Prefix</th>\n",
       "      <th>...</th>\n",
       "      <th>Object Begin Date</th>\n",
       "      <th>Object End Date</th>\n",
       "      <th>Medium</th>\n",
       "      <th>Dimensions</th>\n",
       "      <th>Credit Line</th>\n",
       "      <th>Classification</th>\n",
       "      <th>Link Resource</th>\n",
       "      <th>Metadata Date</th>\n",
       "      <th>Repository</th>\n",
       "      <th>Tags</th>\n",
       "    </tr>\n",
       "  </thead>\n",
       "  <tbody>\n",
       "    <tr>\n",
       "      <th>0</th>\n",
       "      <td>1979.486.1</td>\n",
       "      <td>False</td>\n",
       "      <td>False</td>\n",
       "      <td>1</td>\n",
       "      <td>American Decorative Arts</td>\n",
       "      <td>Coin</td>\n",
       "      <td>One-dollar Liberty Head Coin</td>\n",
       "      <td>NaN</td>\n",
       "      <td>Maker</td>\n",
       "      <td>NaN</td>\n",
       "      <td>...</td>\n",
       "      <td>1853</td>\n",
       "      <td>1853</td>\n",
       "      <td>Gold</td>\n",
       "      <td>Dimensions unavailable</td>\n",
       "      <td>Gift of Heinz L. Stoppelmann, 1979</td>\n",
       "      <td>Metal</td>\n",
       "      <td>http://www.metmuseum.org/art/collection/search/1</td>\n",
       "      <td>5/27/2019 8:00:01 AM</td>\n",
       "      <td>Metropolitan Museum of Art, New York, NY</td>\n",
       "      <td>NaN</td>\n",
       "    </tr>\n",
       "    <tr>\n",
       "      <th>1</th>\n",
       "      <td>1980.264.5</td>\n",
       "      <td>False</td>\n",
       "      <td>False</td>\n",
       "      <td>2</td>\n",
       "      <td>American Decorative Arts</td>\n",
       "      <td>Coin</td>\n",
       "      <td>Ten-dollar Liberty Head Coin</td>\n",
       "      <td>NaN</td>\n",
       "      <td>Maker</td>\n",
       "      <td>NaN</td>\n",
       "      <td>...</td>\n",
       "      <td>1901</td>\n",
       "      <td>1901</td>\n",
       "      <td>Gold</td>\n",
       "      <td>Dimensions unavailable</td>\n",
       "      <td>Gift of Heinz L. Stoppelmann, 1980</td>\n",
       "      <td>Metal</td>\n",
       "      <td>http://www.metmuseum.org/art/collection/search/2</td>\n",
       "      <td>5/27/2019 8:00:01 AM</td>\n",
       "      <td>Metropolitan Museum of Art, New York, NY</td>\n",
       "      <td>NaN</td>\n",
       "    </tr>\n",
       "    <tr>\n",
       "      <th>2</th>\n",
       "      <td>67.265.9</td>\n",
       "      <td>False</td>\n",
       "      <td>False</td>\n",
       "      <td>3</td>\n",
       "      <td>American Decorative Arts</td>\n",
       "      <td>Coin</td>\n",
       "      <td>Two-and-a-Half Dollar Coin</td>\n",
       "      <td>NaN</td>\n",
       "      <td>NaN</td>\n",
       "      <td>NaN</td>\n",
       "      <td>...</td>\n",
       "      <td>1909</td>\n",
       "      <td>1927</td>\n",
       "      <td>Gold</td>\n",
       "      <td>Diam. 11/16 in. (1.7 cm)</td>\n",
       "      <td>Gift of C. Ruxton Love, Jr., 1967</td>\n",
       "      <td>Metal</td>\n",
       "      <td>http://www.metmuseum.org/art/collection/search/3</td>\n",
       "      <td>5/27/2019 8:00:01 AM</td>\n",
       "      <td>Metropolitan Museum of Art, New York, NY</td>\n",
       "      <td>NaN</td>\n",
       "    </tr>\n",
       "    <tr>\n",
       "      <th>3</th>\n",
       "      <td>67.265.10</td>\n",
       "      <td>False</td>\n",
       "      <td>False</td>\n",
       "      <td>4</td>\n",
       "      <td>American Decorative Arts</td>\n",
       "      <td>Coin</td>\n",
       "      <td>Two-and-a-Half Dollar Coin</td>\n",
       "      <td>NaN</td>\n",
       "      <td>NaN</td>\n",
       "      <td>NaN</td>\n",
       "      <td>...</td>\n",
       "      <td>1909</td>\n",
       "      <td>1927</td>\n",
       "      <td>Gold</td>\n",
       "      <td>Diam. 11/16 in. (1.7 cm)</td>\n",
       "      <td>Gift of C. Ruxton Love, Jr., 1967</td>\n",
       "      <td>Metal</td>\n",
       "      <td>http://www.metmuseum.org/art/collection/search/4</td>\n",
       "      <td>5/27/2019 8:00:01 AM</td>\n",
       "      <td>Metropolitan Museum of Art, New York, NY</td>\n",
       "      <td>NaN</td>\n",
       "    </tr>\n",
       "    <tr>\n",
       "      <th>4</th>\n",
       "      <td>67.265.11</td>\n",
       "      <td>False</td>\n",
       "      <td>False</td>\n",
       "      <td>5</td>\n",
       "      <td>American Decorative Arts</td>\n",
       "      <td>Coin</td>\n",
       "      <td>Two-and-a-Half Dollar Coin</td>\n",
       "      <td>NaN</td>\n",
       "      <td>NaN</td>\n",
       "      <td>NaN</td>\n",
       "      <td>...</td>\n",
       "      <td>1909</td>\n",
       "      <td>1927</td>\n",
       "      <td>Gold</td>\n",
       "      <td>Diam. 11/16 in. (1.7 cm)</td>\n",
       "      <td>Gift of C. Ruxton Love, Jr., 1967</td>\n",
       "      <td>Metal</td>\n",
       "      <td>http://www.metmuseum.org/art/collection/search/5</td>\n",
       "      <td>5/27/2019 8:00:01 AM</td>\n",
       "      <td>Metropolitan Museum of Art, New York, NY</td>\n",
       "      <td>NaN</td>\n",
       "    </tr>\n",
       "  </tbody>\n",
       "</table>\n",
       "<p>5 rows × 27 columns</p>\n",
       "</div>"
      ],
      "text/plain": [
       "  Object Number  Is Highlight  Is Public Domain  Object ID  \\\n",
       "0    1979.486.1         False             False          1   \n",
       "1    1980.264.5         False             False          2   \n",
       "2      67.265.9         False             False          3   \n",
       "3     67.265.10         False             False          4   \n",
       "4     67.265.11         False             False          5   \n",
       "\n",
       "                 Department Object Name                         Title Culture  \\\n",
       "0  American Decorative Arts        Coin  One-dollar Liberty Head Coin     NaN   \n",
       "1  American Decorative Arts        Coin  Ten-dollar Liberty Head Coin     NaN   \n",
       "2  American Decorative Arts        Coin    Two-and-a-Half Dollar Coin     NaN   \n",
       "3  American Decorative Arts        Coin    Two-and-a-Half Dollar Coin     NaN   \n",
       "4  American Decorative Arts        Coin    Two-and-a-Half Dollar Coin     NaN   \n",
       "\n",
       "  Artist Role Artist Prefix ...  Object Begin Date Object End Date Medium  \\\n",
       "0       Maker           NaN ...               1853            1853   Gold   \n",
       "1       Maker           NaN ...               1901            1901   Gold   \n",
       "2         NaN           NaN ...               1909            1927   Gold   \n",
       "3         NaN           NaN ...               1909            1927   Gold   \n",
       "4         NaN           NaN ...               1909            1927   Gold   \n",
       "\n",
       "                 Dimensions                         Credit Line  \\\n",
       "0    Dimensions unavailable  Gift of Heinz L. Stoppelmann, 1979   \n",
       "1    Dimensions unavailable  Gift of Heinz L. Stoppelmann, 1980   \n",
       "2  Diam. 11/16 in. (1.7 cm)   Gift of C. Ruxton Love, Jr., 1967   \n",
       "3  Diam. 11/16 in. (1.7 cm)   Gift of C. Ruxton Love, Jr., 1967   \n",
       "4  Diam. 11/16 in. (1.7 cm)   Gift of C. Ruxton Love, Jr., 1967   \n",
       "\n",
       "  Classification                                     Link Resource  \\\n",
       "0          Metal  http://www.metmuseum.org/art/collection/search/1   \n",
       "1          Metal  http://www.metmuseum.org/art/collection/search/2   \n",
       "2          Metal  http://www.metmuseum.org/art/collection/search/3   \n",
       "3          Metal  http://www.metmuseum.org/art/collection/search/4   \n",
       "4          Metal  http://www.metmuseum.org/art/collection/search/5   \n",
       "\n",
       "          Metadata Date                                Repository Tags  \n",
       "0  5/27/2019 8:00:01 AM  Metropolitan Museum of Art, New York, NY  NaN  \n",
       "1  5/27/2019 8:00:01 AM  Metropolitan Museum of Art, New York, NY  NaN  \n",
       "2  5/27/2019 8:00:01 AM  Metropolitan Museum of Art, New York, NY  NaN  \n",
       "3  5/27/2019 8:00:01 AM  Metropolitan Museum of Art, New York, NY  NaN  \n",
       "4  5/27/2019 8:00:01 AM  Metropolitan Museum of Art, New York, NY  NaN  \n",
       "\n",
       "[5 rows x 27 columns]"
      ]
     },
     "execution_count": 14,
     "metadata": {},
     "output_type": "execute_result"
    }
   ],
   "source": [
    "df2.head()"
   ]
  },
  {
   "cell_type": "code",
   "execution_count": 15,
   "metadata": {},
   "outputs": [],
   "source": [
    "#change the type of date into datetime and save it in new column by name 'Date'\n",
    "df2['Date']=pd.to_datetime(df2['Metadata Date'])\n"
   ]
  },
  {
   "cell_type": "code",
   "execution_count": 16,
   "metadata": {},
   "outputs": [],
   "source": [
    "# Delete the old date column\n",
    "df2=df2.drop('Metadata Date',axis=1)"
   ]
  },
  {
   "cell_type": "code",
   "execution_count": 17,
   "metadata": {},
   "outputs": [],
   "source": [
    "#Change the type of ' object ' columns to Categories\n",
    "for col in ['Department', 'Object Name', 'Title', 'Culture', 'Artist Role', 'Artist Prefix', 'Artist Display Name', \n",
    "            'Artist Display Bio', 'Artist Alpha Sort', 'Artist Nationality', 'Artist Begin Date', 'Artist End Date', \n",
    "            'Object Date', 'Medium', 'Dimensions', 'Credit Line', 'Classification',\n",
    "            'Link Resource', 'Repository', 'Tags']:\n",
    "    df2[col] = df2[col].astype('category')\n",
    "    \n"
   ]
  },
  {
   "cell_type": "markdown",
   "metadata": {},
   "source": [
    "# Analysing dataset and Plotting\n"
   ]
  },
  {
   "cell_type": "markdown",
   "metadata": {},
   "source": [
    "#  Which top 10 Department have the highest number amoung all Artists in the Metropolitan Museum of Art ?"
   ]
  },
  {
   "cell_type": "code",
   "execution_count": 18,
   "metadata": {},
   "outputs": [
    {
     "data": {
      "text/plain": [
       "Drawings and Prints                          178975\n",
       "European Sculpture and Decorative Arts        43024\n",
       "Photographs                                   39059\n",
       "Asian Art                                     37783\n",
       "Greek and Roman Art                           33716\n",
       "Costume Institute                             31335\n",
       "Egyptian Art                                  27911\n",
       "American Decorative Arts                      18573\n",
       "Islamic Art                                   15775\n",
       "Modern and Contemporary Art                   14784\n",
       "Arms and Armor                                13584\n",
       "Arts of Africa, Oceania, and the Americas     13053\n",
       "Medieval Art                                   7504\n",
       "Ancient Near Eastern Art                       6325\n",
       "Musical Instruments                            5321\n",
       "European Paintings                             2908\n",
       "The Cloisters                                  2629\n",
       "Robert Lehman Collection                       2586\n",
       "The Libraries                                   258\n",
       "Name: Department, dtype: int64"
      ]
     },
     "execution_count": 18,
     "metadata": {},
     "output_type": "execute_result"
    }
   ],
   "source": [
    "#just checking the number of frequency in this column\n",
    "df2.Department.value_counts()"
   ]
  },
  {
   "cell_type": "code",
   "execution_count": 19,
   "metadata": {},
   "outputs": [
    {
     "data": {
      "image/png": "[encoded data removed]",
      "text/plain": [
       "<Figure size 432x288 with 1 Axes>"
      ]
     },
     "metadata": {},
     "output_type": "display_data"
    }
   ],
   "source": [
    "#Plot the top 10 Department by bar chart\n",
    "df2['Department'].value_counts()[:10].plot(kind='bar')\n",
    "plt.title('Department top 10 ')\n",
    "plt.ylabel('Number of Occurrences', fontsize=12)\n",
    "plt.xlabel('Department name', fontsize=12)\n",
    "plt.show()"
   ]
  },
  {
   "cell_type": "markdown",
   "metadata": {},
   "source": [
    "By looking at this graph, we can see the highest Department is 'Drawing and Prints' which has almost more than 175000 number of occurances among all art. The other group with a small differences from each other have the place in top2 to top10. It shows the\n",
    "Drawing and Prints's has the most popularity among all departments."
   ]
  },
  {
   "cell_type": "markdown",
   "metadata": {},
   "source": [
    "# Which top 10 Nationality have the highest number amoung all Artists in the Metropolitan Museum of Art ?"
   ]
  },
  {
   "cell_type": "markdown",
   "metadata": {},
   "source": [
    "We have a column by name 'Artist Nationality' and we have anothe column called 'Artist Display Bio' which contain country of artist as well, so for this analysis we use both column to improve the validation of out result."
   ]
  },
  {
   "cell_type": "code",
   "execution_count": 20,
   "metadata": {},
   "outputs": [
    {
     "data": {
      "text/plain": [
       "495003                                                  NaN\n",
       "495004                  British, Huntingdon 1799–1856 Paris\n",
       "495005                          British, active ca. 1835–45\n",
       "495006                                                  NaN\n",
       "495007                                                  NaN\n",
       "495008                                                  NaN\n",
       "495009                                                  NaN\n",
       "495010                                                  NaN\n",
       "495011                                                  NaN\n",
       "495012                                                  NaN\n",
       "495013                                                  NaN\n",
       "495014                                                  NaN\n",
       "495015                                                  NaN\n",
       "495016                                                  NaN\n",
       "495017                                                  NaN\n",
       "495018                                                  NaN\n",
       "495019                                                  NaN\n",
       "495020                                                  NaN\n",
       "495021                                                  NaN\n",
       "495022                                                  NaN\n",
       "495023                                                  NaN\n",
       "495024                                                  NaN\n",
       "495025                                                  NaN\n",
       "495026                                                  NaN\n",
       "495027                                                  NaN\n",
       "495028                                                  NaN\n",
       "495029                                                  NaN\n",
       "495030                                                  NaN\n",
       "495031                                                  NaN\n",
       "495032                                                  NaN\n",
       "                                ...                        \n",
       "495073              British, Yeovil, ca. 1807–1866 Brighton\n",
       "495074              British, Yeovil, ca. 1807–1866 Brighton\n",
       "495075              British, Yeovil, ca. 1807–1866 Brighton\n",
       "495076    American, Pittsford, Oswego County, New York 1...\n",
       "495077    British, active ca. 1830–1890|British, 1816–18...\n",
       "495078                                                  NaN\n",
       "495079                                                  NaN\n",
       "495080                                                  NaN\n",
       "495081                                                  NaN\n",
       "495082                                                  NaN\n",
       "495083                                                  NaN\n",
       "495084                                                  NaN\n",
       "495085    British, 1816–1882 London|British, active ca. ...\n",
       "495086    American, Pittsford, Oswego County, New York 1...\n",
       "495087    British, 1816–1882 London|British, active ca. ...\n",
       "495088    American, Pittsford, Oswego County, New York 1...\n",
       "495089    British, 1816–1882 London|British, active ca. ...\n",
       "495090    British, active ca. 1830–1890|British, 1816–18...\n",
       "495091    British, active ca. 1830–1890|British, 1816–18...\n",
       "495092    American, Pittsford, Oswego County, New York 1...\n",
       "495093    American, Pittsford, Oswego County, New York 1...\n",
       "495094                                  American, born 1934\n",
       "495095    British, active ca. 1830–1890|British, 1816–18...\n",
       "495096    British, active ca. 1830–1890|British, 1816–18...\n",
       "495097    British, active ca. 1830–1890|British, 1816–18...\n",
       "495098    British, 1816–1882 London|British, active ca. ...\n",
       "495099    American, Richmond, Virginia 1931–2013 Oneonta...\n",
       "495100    American, Pittsford, Oswego County, New York 1...\n",
       "495101    British, 1816–1882 London|British, active ca. ...\n",
       "495102                     British, active Barnstaple, 1825\n",
       "Name: Artist Display Bio, Length: 100, dtype: category\n",
       "Categories (45915, object): [(1516–?1592), (1576–1632), (1727–1781), (1727–1781)|French, Paris 1736–1807 Paris|Fren..., ..., yeoman 1701, renter warden 1733, |, ||, –1738, died 1758]"
      ]
     },
     "execution_count": 20,
     "metadata": {},
     "output_type": "execute_result"
    }
   ],
   "source": [
    "#Check the information which included in this column\n",
    "df2['Artist Display Bio'].tail(100)"
   ]
  },
  {
   "cell_type": "code",
   "execution_count": 21,
   "metadata": {},
   "outputs": [],
   "source": [
    "#seperate the country from Artist Display Bio column and save it itself.\n",
    "df2['Artist Display Bio']= df2['Artist Display Bio'].apply(lambda x: x.split(',')[0])"
   ]
  },
  {
   "cell_type": "code",
   "execution_count": 22,
   "metadata": {},
   "outputs": [
    {
     "data": {
      "text/plain": [
       "495003       –1738\n",
       "495004     British\n",
       "495005     British\n",
       "495006       –1738\n",
       "495007       –1738\n",
       "495008       –1738\n",
       "495009       –1738\n",
       "495010       –1738\n",
       "495011       –1738\n",
       "495012       –1738\n",
       "495013       –1738\n",
       "495014       –1738\n",
       "495015       –1738\n",
       "495016       –1738\n",
       "495017       –1738\n",
       "495018       –1738\n",
       "495019       –1738\n",
       "495020       –1738\n",
       "495021       –1738\n",
       "495022       –1738\n",
       "495023       –1738\n",
       "495024       –1738\n",
       "495025       –1738\n",
       "495026       –1738\n",
       "495027       –1738\n",
       "495028       –1738\n",
       "495029       –1738\n",
       "495030       –1738\n",
       "495031       –1738\n",
       "495032       –1738\n",
       "            ...   \n",
       "495073     British\n",
       "495074     British\n",
       "495075     British\n",
       "495076    American\n",
       "495077     British\n",
       "495078       –1738\n",
       "495079       –1738\n",
       "495080       –1738\n",
       "495081       –1738\n",
       "495082       –1738\n",
       "495083       –1738\n",
       "495084       –1738\n",
       "495085     British\n",
       "495086    American\n",
       "495087     British\n",
       "495088    American\n",
       "495089     British\n",
       "495090     British\n",
       "495091     British\n",
       "495092    American\n",
       "495093    American\n",
       "495094    American\n",
       "495095     British\n",
       "495096     British\n",
       "495097     British\n",
       "495098     British\n",
       "495099    American\n",
       "495100    American\n",
       "495101     British\n",
       "495102     British\n",
       "Name: Artist Display Bio, Length: 100, dtype: object"
      ]
     },
     "execution_count": 22,
     "metadata": {},
     "output_type": "execute_result"
    }
   ],
   "source": [
    "#Check the new column\n",
    "df2['Artist Display Bio'].tail(100)"
   ]
  },
  {
   "cell_type": "markdown",
   "metadata": {},
   "source": [
    "This code change the Nan value to the number -1738, we should change this to nan again for underestadibility!"
   ]
  },
  {
   "cell_type": "code",
   "execution_count": null,
   "metadata": {},
   "outputs": [],
   "source": [
    "#replace the -1738 with Nan for reduce mistake in analysis.\n",
    "df2.replace(-1738, np.nan)"
   ]
  },
  {
   "cell_type": "code",
   "execution_count": null,
   "metadata": {},
   "outputs": [],
   "source": [
    "#print the top 10 country to check for format and if it needs cleaning\n",
    "print(df2['Artist Nationality'].value_counts()[0:10])"
   ]
  },
  {
   "cell_type": "markdown",
   "metadata": {},
   "source": [
    "we need to keep the first name because for example Italian artist are counted in two different format and we need to keep first country name due to repetation."
   ]
  },
  {
   "cell_type": "code",
   "execution_count": null,
   "metadata": {},
   "outputs": [],
   "source": [
    "#just seperatig information by '|' and keep the first one to reduce repetation \n",
    "df2['Artist Nationality']= df2['Artist Nationality'].apply(lambda x: x.split('|')[0])"
   ]
  },
  {
   "cell_type": "code",
   "execution_count": null,
   "metadata": {},
   "outputs": [],
   "source": [
    "#plotting the top 10 country \n",
    "df2['Artist Nationality'].value_counts()[0:10].plot(kind='barh')\n",
    "plt.title('Nationality in top 10 ')\n",
    "plt.ylabel('Artist Nationality', fontsize=12)\n",
    "plt.xlabel('Number of Occurrences', fontsize=12)\n",
    "plt.show()"
   ]
  },
  {
   "cell_type": "markdown",
   "metadata": {},
   "source": [
    "In this plot we can see the 'probably Swiss' is the highest one and it seems a little strange, So , from the last code we have the same information as this and we can check these two with each other and find the real information."
   ]
  },
  {
   "cell_type": "code",
   "execution_count": null,
   "metadata": {},
   "outputs": [],
   "source": [
    "df2['Artist Display Bio'].value_counts()[1:10].plot(kind='barh')\n",
    "plt.title('Nationality in top 10 ')\n",
    "plt.ylabel('Artist Nationality', fontsize=12)\n",
    "plt.xlabel('Number of Occurrences', fontsize=12)\n",
    "plt.show()"
   ]
  },
  {
   "cell_type": "markdown",
   "metadata": {},
   "source": [
    "Comparing this plot with the Nationality in top 10 , we can recognise that 'probably Swiss' is not the vvalid information and we can delete it."
   ]
  },
  {
   "cell_type": "code",
   "execution_count": null,
   "metadata": {},
   "outputs": [],
   "source": [
    "#Delete the probably Swiss and plot top 10 country again\n",
    "df2['Artist Nationality'].value_counts()[1:10].plot(kind='barh')\n",
    "plt.title('Nationality in top 10 ')\n",
    "plt.ylabel('Artist Nationality', fontsize=12)\n",
    "plt.xlabel('Number of Occurrences', fontsize=12)\n",
    "plt.show()"
   ]
  },
  {
   "cell_type": "markdown",
   "metadata": {},
   "source": [
    "After deleting the probably Swiss, this plot is more valid for us! And the American is the highest country."
   ]
  },
  {
   "cell_type": "markdown",
   "metadata": {},
   "source": [
    "#  The number of gift which are given to the museum based on year?"
   ]
  },
  {
   "cell_type": "markdown",
   "metadata": {},
   "source": [
    "For answer this question we need to seperate the 'Credit Line' in two new column and see what is the answer!"
   ]
  },
  {
   "cell_type": "code",
   "execution_count": null,
   "metadata": {},
   "outputs": [],
   "source": [
    "#for analysing how many gift are given to the Museum, we need to seperate the 'Credit Line' column to two \n",
    "#and extract out new informatin in seperated column. We just extract year of gift as new column\n",
    "df2['year of gift']=df2['Credit Line'].str[-4:]"
   ]
  },
  {
   "cell_type": "code",
   "execution_count": null,
   "metadata": {},
   "outputs": [],
   "source": [
    "#for analysing how many gift are given to the Museum, we need to seperate the 'Credit Line' column to two \n",
    "#and extract out new informatin in seperated column. We just extract name of the person who gave the gift to Museum as new column\n",
    "df2['Gift to Museum']= df2['Credit Line'].apply(lambda x: x.split(',')[0])\n",
    "#check the head\n",
    "df2['Gift to Museum'].head()"
   ]
  },
  {
   "cell_type": "code",
   "execution_count": null,
   "metadata": {},
   "outputs": [],
   "source": [
    "#counting the number of gift which are given to the museum by condition which is being public.\n",
    "dfpublic=df2[df2['Is Public Domain']== True]\n",
    "df_select = dfpublic['year of gift'].value_counts()[1:10].sort_index(ascending=False)\n",
    "df_select.plot(kind='barh')\n",
    "plt.ylabel('Year of Gifted Art', fontsize=12)\n",
    "plt.xlabel('Number of Occurrences', fontsize=12)\n",
    "plt.show()"
   ]
  },
  {
   "cell_type": "markdown",
   "metadata": {},
   "source": [
    "In this plot we can see we are facing two anamaly categories in year and we need to clean these data again to be more valid."
   ]
  },
  {
   "cell_type": "code",
   "execution_count": null,
   "metadata": {},
   "outputs": [],
   "source": [
    "dfff=df2['year of gift'].replace(['4-76','dick'], np.nan)\n",
    "mm=dfff.value_counts()[0:10].sort_index(ascending=False)\n",
    "mm.plot(kind='bar')\n",
    "plt.ylabel('Year of Gifted Art', fontsize=12)\n",
    "plt.xlabel('Number of Occurrences', fontsize=12)\n",
    "plt.show()"
   ]
  },
  {
   "cell_type": "markdown",
   "metadata": {},
   "source": [
    "We found the number of gifted art to the museum and we sorted by year and we can 2011 has the highest number in this plot!"
   ]
  },
  {
   "cell_type": "markdown",
   "metadata": {},
   "source": [
    "# Which top 10 Medium have the highest number amoung all Artists in the Metropolitan Museum of Art ?\n"
   ]
  },
  {
   "cell_type": "markdown",
   "metadata": {},
   "source": [
    "Medium is the form of art that is used. Terracotta is in number of art items te biggest."
   ]
  },
  {
   "cell_type": "code",
   "execution_count": null,
   "metadata": {},
   "outputs": [],
   "source": [
    "#show the top 10 Medium by bar chart\n",
    "df2['Medium'].value_counts()[:10].plot(kind='bar')\n",
    "plt.title('Medium top 10 ')\n",
    "plt.ylabel('Number of Occurrences', fontsize=12)\n",
    "plt.xlabel('Medium name', fontsize=12)\n",
    "plt.show()"
   ]
  },
  {
   "cell_type": "markdown",
   "metadata": {},
   "source": [
    "In this plot we can find out about the information for 'Meduim' column which include the type and material that artist used it for their art. The highest ones are 'Terracotta ', 'Commercial color lithograph'!"
   ]
  },
  {
   "cell_type": "markdown",
   "metadata": {},
   "source": [
    "# Which top 10 Classification have the highest number amoung all Artists in the Metropolitan Museum of Art ?"
   ]
  },
  {
   "cell_type": "markdown",
   "metadata": {},
   "source": [
    "For this regard we need to count the number of occurence per class in the dataset and compare them and plot the top 10."
   ]
  },
  {
   "cell_type": "code",
   "execution_count": null,
   "metadata": {
    "scrolled": true
   },
   "outputs": [],
   "source": [
    "#show the top 10 Classification  by bar chart\n",
    "df2['Classification'].value_counts()[:10].plot(kind='bar')\n",
    "plt.title('Classification top 10 ')\n",
    "plt.ylabel('Number of Occurrences', fontsize=12)\n",
    "plt.xlabel('Classification name', fontsize=12)\n",
    "plt.show()"
   ]
  },
  {
   "cell_type": "markdown",
   "metadata": {},
   "source": [
    "The plot reveals that the most popular classification is prints!"
   ]
  }
 ],
 "metadata": {
  "kernelspec": {
   "display_name": "Python 3",
   "language": "python",
   "name": "python3"
  },
  "language_info": {
   "codemirror_mode": {
    "name": "ipython",
    "version": 3
   },
   "file_extension": ".py",
   "mimetype": "text/x-python",
   "name": "python",
   "nbconvert_exporter": "python",
   "pygments_lexer": "ipython3",
   "version": "3.7.1"
  }
 },
 "nbformat": 4,
 "nbformat_minor": 2
}
